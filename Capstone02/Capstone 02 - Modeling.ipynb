{
 "cells": [
  {
   "cell_type": "code",
   "execution_count": 1,
   "id": "211a37fc-0a61-42a3-a91b-1972d56410b3",
   "metadata": {},
   "outputs": [],
   "source": [
    "import numpy as np\n",
    "import pandas as pd\n",
    "import matplotlib.pyplot as plt\n",
    "import seaborn as sns\n",
    "from sklearn.model_selection import train_test_split\n",
    "from sklearn.model_selection import train_test_split\n",
    "from sklearn.ensemble import RandomForestRegressor\n",
    "from sklearn.svm import SVR\n",
    "from sklearn.metrics import mean_squared_error, r2_score"
   ]
  },
  {
   "cell_type": "code",
   "execution_count": 2,
   "id": "a26ebf3a-fbac-4793-a28c-c00eb2783796",
   "metadata": {},
   "outputs": [],
   "source": [
    "# import the dataframe\n",
    "df = pd.read_pickle('/Users/shendong/Desktop/Springboard_local/Springboard_old/data capstone 2/scaled_df')"
   ]
  },
  {
   "cell_type": "code",
   "execution_count": null,
   "id": "d181fac3-226d-4402-a291-3c934f843f00",
   "metadata": {},
   "outputs": [],
   "source": [
    "# Scaling features (important for SVM)\n",
    "scaler = StandardScaler()\n",
    "X_train_scaled = scaler.fit_transform(X_train)\n",
    "X_test_scaled = scaler.transform(X_test)"
   ]
  },
  {
   "cell_type": "code",
   "execution_count": 6,
   "id": "2b06fdde-aff7-4c75-89b2-7d1a5a4cb729",
   "metadata": {},
   "outputs": [],
   "source": [
    "# define features and target variable\n",
    "X = df.drop(columns = 'average_rating')  \n",
    "y = df['average_rating']                 \n",
    "\n",
    "# Split into training and testing sets\n",
    "X_train, X_test, y_train, y_test = train_test_split(X, y, test_size=0.2, random_state=42)\n"
   ]
  },
  {
   "cell_type": "code",
   "execution_count": null,
   "id": "d7b935f7-d486-418d-a864-55c4aee568c6",
   "metadata": {},
   "outputs": [],
   "source": [
    "\n",
    "\n",
    "# 1. Random Forest Regression\n",
    "rf_model = RandomForestRegressor(n_estimators=100, random_state=42)\n",
    "rf_model.fit(X_train, y_train)\n",
    "\n",
    "# Predictions\n",
    "rf_predictions = rf_model.predict(X_test)\n",
    "\n",
    "# Evaluation\n",
    "rf_rmse = mean_squared_error(y_test, rf_predictions, squared=False)\n",
    "rf_r2 = r2_score(y_test, rf_predictions)\n",
    "\n",
    "print(\"Random Forest:\")\n",
    "print(f\"RMSE: {rf_rmse}\")\n",
    "print(f\"R2 Score: {rf_r2}\")\n",
    "\n",
    "# 2. Support Vector Machine Regression\n",
    "svm_model = SVR(kernel='rbf')  # RBF is a common kernel for regression\n",
    "svm_model.fit(X_train_scaled, y_train)\n",
    "\n",
    "# Predictions\n",
    "svm_predictions = svm_model.predict(X_test_scaled)\n",
    "\n",
    "# Evaluation\n",
    "svm_rmse = mean_squared_error(y_test, svm_predictions, squared=False)\n",
    "svm_r2 = r2_score(y_test, svm_predictions)\n",
    "\n",
    "print(\"\\nSupport Vector Machine:\")\n",
    "print(f\"RMSE: {svm_rmse}\")\n",
    "print(f\"R2 Score: {svm_r2}\")\n"
   ]
  },
  {
   "cell_type": "code",
   "execution_count": null,
   "id": "3351d070-1534-4bf9-89c3-78a4181e91b4",
   "metadata": {},
   "outputs": [],
   "source": []
  },
  {
   "cell_type": "code",
   "execution_count": null,
   "id": "976bf3af-1a00-4ffe-b2a0-572b8e4ad172",
   "metadata": {},
   "outputs": [],
   "source": []
  },
  {
   "cell_type": "code",
   "execution_count": null,
   "id": "f944b168-521f-41fe-a462-522771c9a819",
   "metadata": {},
   "outputs": [],
   "source": []
  },
  {
   "cell_type": "code",
   "execution_count": null,
   "id": "1a70a8c1-84ab-4c59-88f1-bff6ba8853cc",
   "metadata": {},
   "outputs": [],
   "source": []
  }
 ],
 "metadata": {
  "kernelspec": {
   "display_name": "Python 3 (ipykernel)",
   "language": "python",
   "name": "python3"
  },
  "language_info": {
   "codemirror_mode": {
    "name": "ipython",
    "version": 3
   },
   "file_extension": ".py",
   "mimetype": "text/x-python",
   "name": "python",
   "nbconvert_exporter": "python",
   "pygments_lexer": "ipython3",
   "version": "3.11.7"
  }
 },
 "nbformat": 4,
 "nbformat_minor": 5
}
